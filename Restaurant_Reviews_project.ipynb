{
  "nbformat": 4,
  "nbformat_minor": 0,
  "metadata": {
    "colab": {
      "provenance": [],
      "gpuType": "T4",
      "authorship_tag": "ABX9TyMa265fr9BxJxqkVqkSFCOn",
      "include_colab_link": true
    },
    "kernelspec": {
      "name": "python3",
      "display_name": "Python 3"
    },
    "language_info": {
      "name": "python"
    },
    "accelerator": "GPU"
  },
  "cells": [
    {
      "cell_type": "markdown",
      "metadata": {
        "id": "view-in-github",
        "colab_type": "text"
      },
      "source": [
        "<a href=\"https://colab.research.google.com/github/utkarshg1/DeepLearning-6th-July/blob/main/Restaurant_Reviews_project.ipynb\" target=\"_parent\"><img src=\"https://colab.research.google.com/assets/colab-badge.svg\" alt=\"Open In Colab\"/></a>"
      ]
    },
    {
      "cell_type": "markdown",
      "source": [
        "# Sentiment Analysis with Keras"
      ],
      "metadata": {
        "id": "LznPazr7jGB-"
      }
    },
    {
      "cell_type": "code",
      "execution_count": 1,
      "metadata": {
        "id": "3Ct79fJRi_2B"
      },
      "outputs": [],
      "source": [
        "from warnings import filterwarnings\n",
        "filterwarnings('ignore')"
      ]
    },
    {
      "cell_type": "markdown",
      "source": [
        "![image.png](data:image/png;base64,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)"
      ],
      "metadata": {
        "id": "NGurSQYajdTe"
      }
    },
    {
      "cell_type": "markdown",
      "source": [
        "### Step 1: Read the dataset"
      ],
      "metadata": {
        "id": "Ef48Z3Wbjfpk"
      }
    },
    {
      "cell_type": "code",
      "source": [
        "import pandas as pd\n",
        "url = \"https://raw.githubusercontent.com/utkarshg1/Neural-Net-Datasets/main/Restaurant_Reviews.tsv\"\n",
        "df = pd.read_csv(url, sep='\\t')\n",
        "df.head()"
      ],
      "metadata": {
        "colab": {
          "base_uri": "https://localhost:8080/",
          "height": 206
        },
        "id": "Xri3rIXkjOx6",
        "outputId": "208dceb9-9ce9-4168-abba-b843dd4ec7e0"
      },
      "execution_count": 2,
      "outputs": [
        {
          "output_type": "execute_result",
          "data": {
            "text/plain": [
              "                                              Review  Liked\n",
              "0                           Wow... Loved this place.      1\n",
              "1                                 Crust is not good.      0\n",
              "2          Not tasty and the texture was just nasty.      0\n",
              "3  Stopped by during the late May bank holiday of...      1\n",
              "4  The selection on the menu was great and so wer...      1"
            ],
            "text/html": [
              "\n",
              "  <div id=\"df-b1e05593-cadc-4653-830b-47528e20687a\" class=\"colab-df-container\">\n",
              "    <div>\n",
              "<style scoped>\n",
              "    .dataframe tbody tr th:only-of-type {\n",
              "        vertical-align: middle;\n",
              "    }\n",
              "\n",
              "    .dataframe tbody tr th {\n",
              "        vertical-align: top;\n",
              "    }\n",
              "\n",
              "    .dataframe thead th {\n",
              "        text-align: right;\n",
              "    }\n",
              "</style>\n",
              "<table border=\"1\" class=\"dataframe\">\n",
              "  <thead>\n",
              "    <tr style=\"text-align: right;\">\n",
              "      <th></th>\n",
              "      <th>Review</th>\n",
              "      <th>Liked</th>\n",
              "    </tr>\n",
              "  </thead>\n",
              "  <tbody>\n",
              "    <tr>\n",
              "      <th>0</th>\n",
              "      <td>Wow... Loved this place.</td>\n",
              "      <td>1</td>\n",
              "    </tr>\n",
              "    <tr>\n",
              "      <th>1</th>\n",
              "      <td>Crust is not good.</td>\n",
              "      <td>0</td>\n",
              "    </tr>\n",
              "    <tr>\n",
              "      <th>2</th>\n",
              "      <td>Not tasty and the texture was just nasty.</td>\n",
              "      <td>0</td>\n",
              "    </tr>\n",
              "    <tr>\n",
              "      <th>3</th>\n",
              "      <td>Stopped by during the late May bank holiday of...</td>\n",
              "      <td>1</td>\n",
              "    </tr>\n",
              "    <tr>\n",
              "      <th>4</th>\n",
              "      <td>The selection on the menu was great and so wer...</td>\n",
              "      <td>1</td>\n",
              "    </tr>\n",
              "  </tbody>\n",
              "</table>\n",
              "</div>\n",
              "    <div class=\"colab-df-buttons\">\n",
              "\n",
              "  <div class=\"colab-df-container\">\n",
              "    <button class=\"colab-df-convert\" onclick=\"convertToInteractive('df-b1e05593-cadc-4653-830b-47528e20687a')\"\n",
              "            title=\"Convert this dataframe to an interactive table.\"\n",
              "            style=\"display:none;\">\n",
              "\n",
              "  <svg xmlns=\"http://www.w3.org/2000/svg\" height=\"24px\" viewBox=\"0 -960 960 960\">\n",
              "    <path d=\"M120-120v-720h720v720H120Zm60-500h600v-160H180v160Zm220 220h160v-160H400v160Zm0 220h160v-160H400v160ZM180-400h160v-160H180v160Zm440 0h160v-160H620v160ZM180-180h160v-160H180v160Zm440 0h160v-160H620v160Z\"/>\n",
              "  </svg>\n",
              "    </button>\n",
              "\n",
              "  <style>\n",
              "    .colab-df-container {\n",
              "      display:flex;\n",
              "      gap: 12px;\n",
              "    }\n",
              "\n",
              "    .colab-df-convert {\n",
              "      background-color: #E8F0FE;\n",
              "      border: none;\n",
              "      border-radius: 50%;\n",
              "      cursor: pointer;\n",
              "      display: none;\n",
              "      fill: #1967D2;\n",
              "      height: 32px;\n",
              "      padding: 0 0 0 0;\n",
              "      width: 32px;\n",
              "    }\n",
              "\n",
              "    .colab-df-convert:hover {\n",
              "      background-color: #E2EBFA;\n",
              "      box-shadow: 0px 1px 2px rgba(60, 64, 67, 0.3), 0px 1px 3px 1px rgba(60, 64, 67, 0.15);\n",
              "      fill: #174EA6;\n",
              "    }\n",
              "\n",
              "    .colab-df-buttons div {\n",
              "      margin-bottom: 4px;\n",
              "    }\n",
              "\n",
              "    [theme=dark] .colab-df-convert {\n",
              "      background-color: #3B4455;\n",
              "      fill: #D2E3FC;\n",
              "    }\n",
              "\n",
              "    [theme=dark] .colab-df-convert:hover {\n",
              "      background-color: #434B5C;\n",
              "      box-shadow: 0px 1px 3px 1px rgba(0, 0, 0, 0.15);\n",
              "      filter: drop-shadow(0px 1px 2px rgba(0, 0, 0, 0.3));\n",
              "      fill: #FFFFFF;\n",
              "    }\n",
              "  </style>\n",
              "\n",
              "    <script>\n",
              "      const buttonEl =\n",
              "        document.querySelector('#df-b1e05593-cadc-4653-830b-47528e20687a button.colab-df-convert');\n",
              "      buttonEl.style.display =\n",
              "        google.colab.kernel.accessAllowed ? 'block' : 'none';\n",
              "\n",
              "      async function convertToInteractive(key) {\n",
              "        const element = document.querySelector('#df-b1e05593-cadc-4653-830b-47528e20687a');\n",
              "        const dataTable =\n",
              "          await google.colab.kernel.invokeFunction('convertToInteractive',\n",
              "                                                    [key], {});\n",
              "        if (!dataTable) return;\n",
              "\n",
              "        const docLinkHtml = 'Like what you see? Visit the ' +\n",
              "          '<a target=\"_blank\" href=https://colab.research.google.com/notebooks/data_table.ipynb>data table notebook</a>'\n",
              "          + ' to learn more about interactive tables.';\n",
              "        element.innerHTML = '';\n",
              "        dataTable['output_type'] = 'display_data';\n",
              "        await google.colab.output.renderOutput(dataTable, element);\n",
              "        const docLink = document.createElement('div');\n",
              "        docLink.innerHTML = docLinkHtml;\n",
              "        element.appendChild(docLink);\n",
              "      }\n",
              "    </script>\n",
              "  </div>\n",
              "\n",
              "\n",
              "<div id=\"df-2e78c5e0-02e9-4801-bbf3-ee3e974ab1c1\">\n",
              "  <button class=\"colab-df-quickchart\" onclick=\"quickchart('df-2e78c5e0-02e9-4801-bbf3-ee3e974ab1c1')\"\n",
              "            title=\"Suggest charts\"\n",
              "            style=\"display:none;\">\n",
              "\n",
              "<svg xmlns=\"http://www.w3.org/2000/svg\" height=\"24px\"viewBox=\"0 0 24 24\"\n",
              "     width=\"24px\">\n",
              "    <g>\n",
              "        <path d=\"M19 3H5c-1.1 0-2 .9-2 2v14c0 1.1.9 2 2 2h14c1.1 0 2-.9 2-2V5c0-1.1-.9-2-2-2zM9 17H7v-7h2v7zm4 0h-2V7h2v10zm4 0h-2v-4h2v4z\"/>\n",
              "    </g>\n",
              "</svg>\n",
              "  </button>\n",
              "\n",
              "<style>\n",
              "  .colab-df-quickchart {\n",
              "      --bg-color: #E8F0FE;\n",
              "      --fill-color: #1967D2;\n",
              "      --hover-bg-color: #E2EBFA;\n",
              "      --hover-fill-color: #174EA6;\n",
              "      --disabled-fill-color: #AAA;\n",
              "      --disabled-bg-color: #DDD;\n",
              "  }\n",
              "\n",
              "  [theme=dark] .colab-df-quickchart {\n",
              "      --bg-color: #3B4455;\n",
              "      --fill-color: #D2E3FC;\n",
              "      --hover-bg-color: #434B5C;\n",
              "      --hover-fill-color: #FFFFFF;\n",
              "      --disabled-bg-color: #3B4455;\n",
              "      --disabled-fill-color: #666;\n",
              "  }\n",
              "\n",
              "  .colab-df-quickchart {\n",
              "    background-color: var(--bg-color);\n",
              "    border: none;\n",
              "    border-radius: 50%;\n",
              "    cursor: pointer;\n",
              "    display: none;\n",
              "    fill: var(--fill-color);\n",
              "    height: 32px;\n",
              "    padding: 0;\n",
              "    width: 32px;\n",
              "  }\n",
              "\n",
              "  .colab-df-quickchart:hover {\n",
              "    background-color: var(--hover-bg-color);\n",
              "    box-shadow: 0 1px 2px rgba(60, 64, 67, 0.3), 0 1px 3px 1px rgba(60, 64, 67, 0.15);\n",
              "    fill: var(--button-hover-fill-color);\n",
              "  }\n",
              "\n",
              "  .colab-df-quickchart-complete:disabled,\n",
              "  .colab-df-quickchart-complete:disabled:hover {\n",
              "    background-color: var(--disabled-bg-color);\n",
              "    fill: var(--disabled-fill-color);\n",
              "    box-shadow: none;\n",
              "  }\n",
              "\n",
              "  .colab-df-spinner {\n",
              "    border: 2px solid var(--fill-color);\n",
              "    border-color: transparent;\n",
              "    border-bottom-color: var(--fill-color);\n",
              "    animation:\n",
              "      spin 1s steps(1) infinite;\n",
              "  }\n",
              "\n",
              "  @keyframes spin {\n",
              "    0% {\n",
              "      border-color: transparent;\n",
              "      border-bottom-color: var(--fill-color);\n",
              "      border-left-color: var(--fill-color);\n",
              "    }\n",
              "    20% {\n",
              "      border-color: transparent;\n",
              "      border-left-color: var(--fill-color);\n",
              "      border-top-color: var(--fill-color);\n",
              "    }\n",
              "    30% {\n",
              "      border-color: transparent;\n",
              "      border-left-color: var(--fill-color);\n",
              "      border-top-color: var(--fill-color);\n",
              "      border-right-color: var(--fill-color);\n",
              "    }\n",
              "    40% {\n",
              "      border-color: transparent;\n",
              "      border-right-color: var(--fill-color);\n",
              "      border-top-color: var(--fill-color);\n",
              "    }\n",
              "    60% {\n",
              "      border-color: transparent;\n",
              "      border-right-color: var(--fill-color);\n",
              "    }\n",
              "    80% {\n",
              "      border-color: transparent;\n",
              "      border-right-color: var(--fill-color);\n",
              "      border-bottom-color: var(--fill-color);\n",
              "    }\n",
              "    90% {\n",
              "      border-color: transparent;\n",
              "      border-bottom-color: var(--fill-color);\n",
              "    }\n",
              "  }\n",
              "</style>\n",
              "\n",
              "  <script>\n",
              "    async function quickchart(key) {\n",
              "      const quickchartButtonEl =\n",
              "        document.querySelector('#' + key + ' button');\n",
              "      quickchartButtonEl.disabled = true;  // To prevent multiple clicks.\n",
              "      quickchartButtonEl.classList.add('colab-df-spinner');\n",
              "      try {\n",
              "        const charts = await google.colab.kernel.invokeFunction(\n",
              "            'suggestCharts', [key], {});\n",
              "      } catch (error) {\n",
              "        console.error('Error during call to suggestCharts:', error);\n",
              "      }\n",
              "      quickchartButtonEl.classList.remove('colab-df-spinner');\n",
              "      quickchartButtonEl.classList.add('colab-df-quickchart-complete');\n",
              "    }\n",
              "    (() => {\n",
              "      let quickchartButtonEl =\n",
              "        document.querySelector('#df-2e78c5e0-02e9-4801-bbf3-ee3e974ab1c1 button');\n",
              "      quickchartButtonEl.style.display =\n",
              "        google.colab.kernel.accessAllowed ? 'block' : 'none';\n",
              "    })();\n",
              "  </script>\n",
              "</div>\n",
              "\n",
              "    </div>\n",
              "  </div>\n"
            ],
            "application/vnd.google.colaboratory.intrinsic+json": {
              "type": "dataframe",
              "variable_name": "df",
              "summary": "{\n  \"name\": \"df\",\n  \"rows\": 1000,\n  \"fields\": [\n    {\n      \"column\": \"Review\",\n      \"properties\": {\n        \"dtype\": \"string\",\n        \"num_unique_values\": 996,\n        \"samples\": [\n          \"They were excellent.\",\n          \"Your servers suck, wait, correction, our server Heimer sucked.\",\n          \"Will be back again!\"\n        ],\n        \"semantic_type\": \"\",\n        \"description\": \"\"\n      }\n    },\n    {\n      \"column\": \"Liked\",\n      \"properties\": {\n        \"dtype\": \"number\",\n        \"std\": 0,\n        \"min\": 0,\n        \"max\": 1,\n        \"num_unique_values\": 2,\n        \"samples\": [\n          0,\n          1\n        ],\n        \"semantic_type\": \"\",\n        \"description\": \"\"\n      }\n    }\n  ]\n}"
            }
          },
          "metadata": {},
          "execution_count": 2
        }
      ]
    },
    {
      "cell_type": "code",
      "source": [
        "s = \"WELCOME, to Deep Learning Class!!!\""
      ],
      "metadata": {
        "id": "D-RnNKeijpmI"
      },
      "execution_count": 3,
      "outputs": []
    },
    {
      "cell_type": "code",
      "source": [
        "s = s.lower()"
      ],
      "metadata": {
        "id": "xs6pKiQOj8Kt"
      },
      "execution_count": 4,
      "outputs": []
    },
    {
      "cell_type": "code",
      "source": [
        "s"
      ],
      "metadata": {
        "colab": {
          "base_uri": "https://localhost:8080/",
          "height": 35
        },
        "id": "zfsgu_ezj-CS",
        "outputId": "baad60ab-2a69-48e5-ad9b-9d8344a774e6"
      },
      "execution_count": 5,
      "outputs": [
        {
          "output_type": "execute_result",
          "data": {
            "text/plain": [
              "'welcome, to deep learning class!!!'"
            ],
            "application/vnd.google.colaboratory.intrinsic+json": {
              "type": "string"
            }
          },
          "metadata": {},
          "execution_count": 5
        }
      ]
    },
    {
      "cell_type": "code",
      "source": [
        "### provide proper pattern [^a-z<space>]"
      ],
      "metadata": {
        "id": "GELMU_Rbklhd"
      },
      "execution_count": 6,
      "outputs": []
    },
    {
      "cell_type": "code",
      "source": [
        "import re\n",
        "s1 = re.sub(\"[^a-z ]\", \"\", s)\n",
        "s1"
      ],
      "metadata": {
        "colab": {
          "base_uri": "https://localhost:8080/",
          "height": 35
        },
        "id": "e-osrNJakERR",
        "outputId": "3d25c394-64e3-4973-89cd-bac5acfbbc4a"
      },
      "execution_count": 7,
      "outputs": [
        {
          "output_type": "execute_result",
          "data": {
            "text/plain": [
              "'welcome to deep learning class'"
            ],
            "application/vnd.google.colaboratory.intrinsic+json": {
              "type": "string"
            }
          },
          "metadata": {},
          "execution_count": 7
        }
      ]
    },
    {
      "cell_type": "markdown",
      "source": [
        "### Create a function to preprocess text"
      ],
      "metadata": {
        "id": "_lvnatEbk1Dk"
      }
    },
    {
      "cell_type": "code",
      "source": [
        "def preprocess_text(s):\n",
        "  s = s.lower()\n",
        "  s = re.sub(\"[^a-z ]\", \"\", s)\n",
        "  return s"
      ],
      "metadata": {
        "id": "wI0EM7ANkgsx"
      },
      "execution_count": 8,
      "outputs": []
    },
    {
      "cell_type": "code",
      "source": [
        "a = \"Wow... , The expericence was very good\"\n",
        "preprocess_text(a)"
      ],
      "metadata": {
        "colab": {
          "base_uri": "https://localhost:8080/",
          "height": 35
        },
        "id": "cd7fc8QvlD6Z",
        "outputId": "c8036c05-ad0a-4867-e745-079c7b71d950"
      },
      "execution_count": 9,
      "outputs": [
        {
          "output_type": "execute_result",
          "data": {
            "text/plain": [
              "'wow  the expericence was very good'"
            ],
            "application/vnd.google.colaboratory.intrinsic+json": {
              "type": "string"
            }
          },
          "metadata": {},
          "execution_count": 9
        }
      ]
    },
    {
      "cell_type": "markdown",
      "source": [
        "### Apply preprocessing on dataframe"
      ],
      "metadata": {
        "id": "4YRd_b3dlWaF"
      }
    },
    {
      "cell_type": "code",
      "source": [
        "df['Review_pre'] = df['Review'].apply(preprocess_text)"
      ],
      "metadata": {
        "id": "lPe-Z53ClK-8"
      },
      "execution_count": 10,
      "outputs": []
    },
    {
      "cell_type": "code",
      "source": [
        "df"
      ],
      "metadata": {
        "colab": {
          "base_uri": "https://localhost:8080/",
          "height": 458
        },
        "id": "AlumI4BUlf2Q",
        "outputId": "69821869-fb2b-4b63-a877-3106a6b667cd"
      },
      "execution_count": 11,
      "outputs": [
        {
          "output_type": "execute_result",
          "data": {
            "text/plain": [
              "                                                Review  Liked  \\\n",
              "0                             Wow... Loved this place.      1   \n",
              "1                                   Crust is not good.      0   \n",
              "2            Not tasty and the texture was just nasty.      0   \n",
              "3    Stopped by during the late May bank holiday of...      1   \n",
              "4    The selection on the menu was great and so wer...      1   \n",
              "..                                                 ...    ...   \n",
              "995  I think food should have flavor and texture an...      0   \n",
              "996                           Appetite instantly gone.      0   \n",
              "997  Overall I was not impressed and would not go b...      0   \n",
              "998  The whole experience was underwhelming, and I ...      0   \n",
              "999  Then, as if I hadn't wasted enough of my life ...      0   \n",
              "\n",
              "                                            Review_pre  \n",
              "0                                 wow loved this place  \n",
              "1                                    crust is not good  \n",
              "2             not tasty and the texture was just nasty  \n",
              "3    stopped by during the late may bank holiday of...  \n",
              "4    the selection on the menu was great and so wer...  \n",
              "..                                                 ...  \n",
              "995  i think food should have flavor and texture an...  \n",
              "996                            appetite instantly gone  \n",
              "997  overall i was not impressed and would not go back  \n",
              "998  the whole experience was underwhelming and i t...  \n",
              "999  then as if i hadnt wasted enough of my life th...  \n",
              "\n",
              "[1000 rows x 3 columns]"
            ],
            "text/html": [
              "\n",
              "  <div id=\"df-6de77019-f023-4c6a-b095-8ca766c54e59\" class=\"colab-df-container\">\n",
              "    <div>\n",
              "<style scoped>\n",
              "    .dataframe tbody tr th:only-of-type {\n",
              "        vertical-align: middle;\n",
              "    }\n",
              "\n",
              "    .dataframe tbody tr th {\n",
              "        vertical-align: top;\n",
              "    }\n",
              "\n",
              "    .dataframe thead th {\n",
              "        text-align: right;\n",
              "    }\n",
              "</style>\n",
              "<table border=\"1\" class=\"dataframe\">\n",
              "  <thead>\n",
              "    <tr style=\"text-align: right;\">\n",
              "      <th></th>\n",
              "      <th>Review</th>\n",
              "      <th>Liked</th>\n",
              "      <th>Review_pre</th>\n",
              "    </tr>\n",
              "  </thead>\n",
              "  <tbody>\n",
              "    <tr>\n",
              "      <th>0</th>\n",
              "      <td>Wow... Loved this place.</td>\n",
              "      <td>1</td>\n",
              "      <td>wow loved this place</td>\n",
              "    </tr>\n",
              "    <tr>\n",
              "      <th>1</th>\n",
              "      <td>Crust is not good.</td>\n",
              "      <td>0</td>\n",
              "      <td>crust is not good</td>\n",
              "    </tr>\n",
              "    <tr>\n",
              "      <th>2</th>\n",
              "      <td>Not tasty and the texture was just nasty.</td>\n",
              "      <td>0</td>\n",
              "      <td>not tasty and the texture was just nasty</td>\n",
              "    </tr>\n",
              "    <tr>\n",
              "      <th>3</th>\n",
              "      <td>Stopped by during the late May bank holiday of...</td>\n",
              "      <td>1</td>\n",
              "      <td>stopped by during the late may bank holiday of...</td>\n",
              "    </tr>\n",
              "    <tr>\n",
              "      <th>4</th>\n",
              "      <td>The selection on the menu was great and so wer...</td>\n",
              "      <td>1</td>\n",
              "      <td>the selection on the menu was great and so wer...</td>\n",
              "    </tr>\n",
              "    <tr>\n",
              "      <th>...</th>\n",
              "      <td>...</td>\n",
              "      <td>...</td>\n",
              "      <td>...</td>\n",
              "    </tr>\n",
              "    <tr>\n",
              "      <th>995</th>\n",
              "      <td>I think food should have flavor and texture an...</td>\n",
              "      <td>0</td>\n",
              "      <td>i think food should have flavor and texture an...</td>\n",
              "    </tr>\n",
              "    <tr>\n",
              "      <th>996</th>\n",
              "      <td>Appetite instantly gone.</td>\n",
              "      <td>0</td>\n",
              "      <td>appetite instantly gone</td>\n",
              "    </tr>\n",
              "    <tr>\n",
              "      <th>997</th>\n",
              "      <td>Overall I was not impressed and would not go b...</td>\n",
              "      <td>0</td>\n",
              "      <td>overall i was not impressed and would not go back</td>\n",
              "    </tr>\n",
              "    <tr>\n",
              "      <th>998</th>\n",
              "      <td>The whole experience was underwhelming, and I ...</td>\n",
              "      <td>0</td>\n",
              "      <td>the whole experience was underwhelming and i t...</td>\n",
              "    </tr>\n",
              "    <tr>\n",
              "      <th>999</th>\n",
              "      <td>Then, as if I hadn't wasted enough of my life ...</td>\n",
              "      <td>0</td>\n",
              "      <td>then as if i hadnt wasted enough of my life th...</td>\n",
              "    </tr>\n",
              "  </tbody>\n",
              "</table>\n",
              "<p>1000 rows × 3 columns</p>\n",
              "</div>\n",
              "    <div class=\"colab-df-buttons\">\n",
              "\n",
              "  <div class=\"colab-df-container\">\n",
              "    <button class=\"colab-df-convert\" onclick=\"convertToInteractive('df-6de77019-f023-4c6a-b095-8ca766c54e59')\"\n",
              "            title=\"Convert this dataframe to an interactive table.\"\n",
              "            style=\"display:none;\">\n",
              "\n",
              "  <svg xmlns=\"http://www.w3.org/2000/svg\" height=\"24px\" viewBox=\"0 -960 960 960\">\n",
              "    <path d=\"M120-120v-720h720v720H120Zm60-500h600v-160H180v160Zm220 220h160v-160H400v160Zm0 220h160v-160H400v160ZM180-400h160v-160H180v160Zm440 0h160v-160H620v160ZM180-180h160v-160H180v160Zm440 0h160v-160H620v160Z\"/>\n",
              "  </svg>\n",
              "    </button>\n",
              "\n",
              "  <style>\n",
              "    .colab-df-container {\n",
              "      display:flex;\n",
              "      gap: 12px;\n",
              "    }\n",
              "\n",
              "    .colab-df-convert {\n",
              "      background-color: #E8F0FE;\n",
              "      border: none;\n",
              "      border-radius: 50%;\n",
              "      cursor: pointer;\n",
              "      display: none;\n",
              "      fill: #1967D2;\n",
              "      height: 32px;\n",
              "      padding: 0 0 0 0;\n",
              "      width: 32px;\n",
              "    }\n",
              "\n",
              "    .colab-df-convert:hover {\n",
              "      background-color: #E2EBFA;\n",
              "      box-shadow: 0px 1px 2px rgba(60, 64, 67, 0.3), 0px 1px 3px 1px rgba(60, 64, 67, 0.15);\n",
              "      fill: #174EA6;\n",
              "    }\n",
              "\n",
              "    .colab-df-buttons div {\n",
              "      margin-bottom: 4px;\n",
              "    }\n",
              "\n",
              "    [theme=dark] .colab-df-convert {\n",
              "      background-color: #3B4455;\n",
              "      fill: #D2E3FC;\n",
              "    }\n",
              "\n",
              "    [theme=dark] .colab-df-convert:hover {\n",
              "      background-color: #434B5C;\n",
              "      box-shadow: 0px 1px 3px 1px rgba(0, 0, 0, 0.15);\n",
              "      filter: drop-shadow(0px 1px 2px rgba(0, 0, 0, 0.3));\n",
              "      fill: #FFFFFF;\n",
              "    }\n",
              "  </style>\n",
              "\n",
              "    <script>\n",
              "      const buttonEl =\n",
              "        document.querySelector('#df-6de77019-f023-4c6a-b095-8ca766c54e59 button.colab-df-convert');\n",
              "      buttonEl.style.display =\n",
              "        google.colab.kernel.accessAllowed ? 'block' : 'none';\n",
              "\n",
              "      async function convertToInteractive(key) {\n",
              "        const element = document.querySelector('#df-6de77019-f023-4c6a-b095-8ca766c54e59');\n",
              "        const dataTable =\n",
              "          await google.colab.kernel.invokeFunction('convertToInteractive',\n",
              "                                                    [key], {});\n",
              "        if (!dataTable) return;\n",
              "\n",
              "        const docLinkHtml = 'Like what you see? Visit the ' +\n",
              "          '<a target=\"_blank\" href=https://colab.research.google.com/notebooks/data_table.ipynb>data table notebook</a>'\n",
              "          + ' to learn more about interactive tables.';\n",
              "        element.innerHTML = '';\n",
              "        dataTable['output_type'] = 'display_data';\n",
              "        await google.colab.output.renderOutput(dataTable, element);\n",
              "        const docLink = document.createElement('div');\n",
              "        docLink.innerHTML = docLinkHtml;\n",
              "        element.appendChild(docLink);\n",
              "      }\n",
              "    </script>\n",
              "  </div>\n",
              "\n",
              "\n",
              "<div id=\"df-bdb76296-e4f5-4760-82c1-63c4c284814d\">\n",
              "  <button class=\"colab-df-quickchart\" onclick=\"quickchart('df-bdb76296-e4f5-4760-82c1-63c4c284814d')\"\n",
              "            title=\"Suggest charts\"\n",
              "            style=\"display:none;\">\n",
              "\n",
              "<svg xmlns=\"http://www.w3.org/2000/svg\" height=\"24px\"viewBox=\"0 0 24 24\"\n",
              "     width=\"24px\">\n",
              "    <g>\n",
              "        <path d=\"M19 3H5c-1.1 0-2 .9-2 2v14c0 1.1.9 2 2 2h14c1.1 0 2-.9 2-2V5c0-1.1-.9-2-2-2zM9 17H7v-7h2v7zm4 0h-2V7h2v10zm4 0h-2v-4h2v4z\"/>\n",
              "    </g>\n",
              "</svg>\n",
              "  </button>\n",
              "\n",
              "<style>\n",
              "  .colab-df-quickchart {\n",
              "      --bg-color: #E8F0FE;\n",
              "      --fill-color: #1967D2;\n",
              "      --hover-bg-color: #E2EBFA;\n",
              "      --hover-fill-color: #174EA6;\n",
              "      --disabled-fill-color: #AAA;\n",
              "      --disabled-bg-color: #DDD;\n",
              "  }\n",
              "\n",
              "  [theme=dark] .colab-df-quickchart {\n",
              "      --bg-color: #3B4455;\n",
              "      --fill-color: #D2E3FC;\n",
              "      --hover-bg-color: #434B5C;\n",
              "      --hover-fill-color: #FFFFFF;\n",
              "      --disabled-bg-color: #3B4455;\n",
              "      --disabled-fill-color: #666;\n",
              "  }\n",
              "\n",
              "  .colab-df-quickchart {\n",
              "    background-color: var(--bg-color);\n",
              "    border: none;\n",
              "    border-radius: 50%;\n",
              "    cursor: pointer;\n",
              "    display: none;\n",
              "    fill: var(--fill-color);\n",
              "    height: 32px;\n",
              "    padding: 0;\n",
              "    width: 32px;\n",
              "  }\n",
              "\n",
              "  .colab-df-quickchart:hover {\n",
              "    background-color: var(--hover-bg-color);\n",
              "    box-shadow: 0 1px 2px rgba(60, 64, 67, 0.3), 0 1px 3px 1px rgba(60, 64, 67, 0.15);\n",
              "    fill: var(--button-hover-fill-color);\n",
              "  }\n",
              "\n",
              "  .colab-df-quickchart-complete:disabled,\n",
              "  .colab-df-quickchart-complete:disabled:hover {\n",
              "    background-color: var(--disabled-bg-color);\n",
              "    fill: var(--disabled-fill-color);\n",
              "    box-shadow: none;\n",
              "  }\n",
              "\n",
              "  .colab-df-spinner {\n",
              "    border: 2px solid var(--fill-color);\n",
              "    border-color: transparent;\n",
              "    border-bottom-color: var(--fill-color);\n",
              "    animation:\n",
              "      spin 1s steps(1) infinite;\n",
              "  }\n",
              "\n",
              "  @keyframes spin {\n",
              "    0% {\n",
              "      border-color: transparent;\n",
              "      border-bottom-color: var(--fill-color);\n",
              "      border-left-color: var(--fill-color);\n",
              "    }\n",
              "    20% {\n",
              "      border-color: transparent;\n",
              "      border-left-color: var(--fill-color);\n",
              "      border-top-color: var(--fill-color);\n",
              "    }\n",
              "    30% {\n",
              "      border-color: transparent;\n",
              "      border-left-color: var(--fill-color);\n",
              "      border-top-color: var(--fill-color);\n",
              "      border-right-color: var(--fill-color);\n",
              "    }\n",
              "    40% {\n",
              "      border-color: transparent;\n",
              "      border-right-color: var(--fill-color);\n",
              "      border-top-color: var(--fill-color);\n",
              "    }\n",
              "    60% {\n",
              "      border-color: transparent;\n",
              "      border-right-color: var(--fill-color);\n",
              "    }\n",
              "    80% {\n",
              "      border-color: transparent;\n",
              "      border-right-color: var(--fill-color);\n",
              "      border-bottom-color: var(--fill-color);\n",
              "    }\n",
              "    90% {\n",
              "      border-color: transparent;\n",
              "      border-bottom-color: var(--fill-color);\n",
              "    }\n",
              "  }\n",
              "</style>\n",
              "\n",
              "  <script>\n",
              "    async function quickchart(key) {\n",
              "      const quickchartButtonEl =\n",
              "        document.querySelector('#' + key + ' button');\n",
              "      quickchartButtonEl.disabled = true;  // To prevent multiple clicks.\n",
              "      quickchartButtonEl.classList.add('colab-df-spinner');\n",
              "      try {\n",
              "        const charts = await google.colab.kernel.invokeFunction(\n",
              "            'suggestCharts', [key], {});\n",
              "      } catch (error) {\n",
              "        console.error('Error during call to suggestCharts:', error);\n",
              "      }\n",
              "      quickchartButtonEl.classList.remove('colab-df-spinner');\n",
              "      quickchartButtonEl.classList.add('colab-df-quickchart-complete');\n",
              "    }\n",
              "    (() => {\n",
              "      let quickchartButtonEl =\n",
              "        document.querySelector('#df-bdb76296-e4f5-4760-82c1-63c4c284814d button');\n",
              "      quickchartButtonEl.style.display =\n",
              "        google.colab.kernel.accessAllowed ? 'block' : 'none';\n",
              "    })();\n",
              "  </script>\n",
              "</div>\n",
              "\n",
              "  <div id=\"id_bde6532d-20dd-4c20-b4da-93afb53525ef\">\n",
              "    <style>\n",
              "      .colab-df-generate {\n",
              "        background-color: #E8F0FE;\n",
              "        border: none;\n",
              "        border-radius: 50%;\n",
              "        cursor: pointer;\n",
              "        display: none;\n",
              "        fill: #1967D2;\n",
              "        height: 32px;\n",
              "        padding: 0 0 0 0;\n",
              "        width: 32px;\n",
              "      }\n",
              "\n",
              "      .colab-df-generate:hover {\n",
              "        background-color: #E2EBFA;\n",
              "        box-shadow: 0px 1px 2px rgba(60, 64, 67, 0.3), 0px 1px 3px 1px rgba(60, 64, 67, 0.15);\n",
              "        fill: #174EA6;\n",
              "      }\n",
              "\n",
              "      [theme=dark] .colab-df-generate {\n",
              "        background-color: #3B4455;\n",
              "        fill: #D2E3FC;\n",
              "      }\n",
              "\n",
              "      [theme=dark] .colab-df-generate:hover {\n",
              "        background-color: #434B5C;\n",
              "        box-shadow: 0px 1px 3px 1px rgba(0, 0, 0, 0.15);\n",
              "        filter: drop-shadow(0px 1px 2px rgba(0, 0, 0, 0.3));\n",
              "        fill: #FFFFFF;\n",
              "      }\n",
              "    </style>\n",
              "    <button class=\"colab-df-generate\" onclick=\"generateWithVariable('df')\"\n",
              "            title=\"Generate code using this dataframe.\"\n",
              "            style=\"display:none;\">\n",
              "\n",
              "  <svg xmlns=\"http://www.w3.org/2000/svg\" height=\"24px\"viewBox=\"0 0 24 24\"\n",
              "       width=\"24px\">\n",
              "    <path d=\"M7,19H8.4L18.45,9,17,7.55,7,17.6ZM5,21V16.75L18.45,3.32a2,2,0,0,1,2.83,0l1.4,1.43a1.91,1.91,0,0,1,.58,1.4,1.91,1.91,0,0,1-.58,1.4L9.25,21ZM18.45,9,17,7.55Zm-12,3A5.31,5.31,0,0,0,4.9,8.1,5.31,5.31,0,0,0,1,6.5,5.31,5.31,0,0,0,4.9,4.9,5.31,5.31,0,0,0,6.5,1,5.31,5.31,0,0,0,8.1,4.9,5.31,5.31,0,0,0,12,6.5,5.46,5.46,0,0,0,6.5,12Z\"/>\n",
              "  </svg>\n",
              "    </button>\n",
              "    <script>\n",
              "      (() => {\n",
              "      const buttonEl =\n",
              "        document.querySelector('#id_bde6532d-20dd-4c20-b4da-93afb53525ef button.colab-df-generate');\n",
              "      buttonEl.style.display =\n",
              "        google.colab.kernel.accessAllowed ? 'block' : 'none';\n",
              "\n",
              "      buttonEl.onclick = () => {\n",
              "        google.colab.notebook.generateWithVariable('df');\n",
              "      }\n",
              "      })();\n",
              "    </script>\n",
              "  </div>\n",
              "\n",
              "    </div>\n",
              "  </div>\n"
            ],
            "application/vnd.google.colaboratory.intrinsic+json": {
              "type": "dataframe",
              "variable_name": "df",
              "summary": "{\n  \"name\": \"df\",\n  \"rows\": 1000,\n  \"fields\": [\n    {\n      \"column\": \"Review\",\n      \"properties\": {\n        \"dtype\": \"string\",\n        \"num_unique_values\": 996,\n        \"samples\": [\n          \"They were excellent.\",\n          \"Your servers suck, wait, correction, our server Heimer sucked.\",\n          \"Will be back again!\"\n        ],\n        \"semantic_type\": \"\",\n        \"description\": \"\"\n      }\n    },\n    {\n      \"column\": \"Liked\",\n      \"properties\": {\n        \"dtype\": \"number\",\n        \"std\": 0,\n        \"min\": 0,\n        \"max\": 1,\n        \"num_unique_values\": 2,\n        \"samples\": [\n          0,\n          1\n        ],\n        \"semantic_type\": \"\",\n        \"description\": \"\"\n      }\n    },\n    {\n      \"column\": \"Review_pre\",\n      \"properties\": {\n        \"dtype\": \"string\",\n        \"num_unique_values\": 995,\n        \"samples\": [\n          \"i could barely stomach the meal but didnt complain because it was a business lunch\",\n          \"similarly the delivery man did not say a word of apology when our food was  minutes late\"\n        ],\n        \"semantic_type\": \"\",\n        \"description\": \"\"\n      }\n    }\n  ]\n}"
            }
          },
          "metadata": {},
          "execution_count": 11
        }
      ]
    },
    {
      "cell_type": "markdown",
      "source": [
        "### Apply TFIDF Vectorizer"
      ],
      "metadata": {
        "id": "2_M_0k1Kmj7k"
      }
    },
    {
      "cell_type": "code",
      "source": [
        "from sklearn.feature_extraction.text import TfidfVectorizer\n",
        "tfidf = TfidfVectorizer()\n",
        "X_pre = tfidf.fit_transform(df['Review_pre']).toarray()"
      ],
      "metadata": {
        "id": "T78TuQC1lg99"
      },
      "execution_count": 12,
      "outputs": []
    },
    {
      "cell_type": "code",
      "source": [
        "X_pre"
      ],
      "metadata": {
        "colab": {
          "base_uri": "https://localhost:8080/"
        },
        "id": "8w38eEi2m3Qx",
        "outputId": "f5bbef9c-72cd-4a83-e794-713412cdc588"
      },
      "execution_count": 13,
      "outputs": [
        {
          "output_type": "execute_result",
          "data": {
            "text/plain": [
              "array([[0., 0., 0., ..., 0., 0., 0.],\n",
              "       [0., 0., 0., ..., 0., 0., 0.],\n",
              "       [0., 0., 0., ..., 0., 0., 0.],\n",
              "       ...,\n",
              "       [0., 0., 0., ..., 0., 0., 0.],\n",
              "       [0., 0., 0., ..., 0., 0., 0.],\n",
              "       [0., 0., 0., ..., 0., 0., 0.]])"
            ]
          },
          "metadata": {},
          "execution_count": 13
        }
      ]
    },
    {
      "cell_type": "code",
      "source": [
        "X_pre.shape"
      ],
      "metadata": {
        "colab": {
          "base_uri": "https://localhost:8080/"
        },
        "id": "54keRJ5im6pe",
        "outputId": "342571e8-7611-41e5-f25a-85e5661802e2"
      },
      "execution_count": 14,
      "outputs": [
        {
          "output_type": "execute_result",
          "data": {
            "text/plain": [
              "(1000, 2046)"
            ]
          },
          "metadata": {},
          "execution_count": 14
        }
      ]
    },
    {
      "cell_type": "markdown",
      "source": [
        "![image.png](data:image/png;base64,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)"
      ],
      "metadata": {
        "id": "VjA4x5khnMKQ"
      }
    },
    {
      "cell_type": "code",
      "source": [
        "Y = df['Liked']"
      ],
      "metadata": {
        "id": "ZcVEb_qJnCCH"
      },
      "execution_count": 15,
      "outputs": []
    },
    {
      "cell_type": "code",
      "source": [
        "Y.head()"
      ],
      "metadata": {
        "colab": {
          "base_uri": "https://localhost:8080/"
        },
        "id": "umB5udpOnVvB",
        "outputId": "63ac9f57-6600-4dd5-c938-639f5cf652ef"
      },
      "execution_count": 16,
      "outputs": [
        {
          "output_type": "execute_result",
          "data": {
            "text/plain": [
              "0    1\n",
              "1    0\n",
              "2    0\n",
              "3    1\n",
              "4    1\n",
              "Name: Liked, dtype: int64"
            ]
          },
          "metadata": {},
          "execution_count": 16
        }
      ]
    },
    {
      "cell_type": "markdown",
      "source": [
        "### Apply Train test split"
      ],
      "metadata": {
        "id": "U4FP2s_Incis"
      }
    },
    {
      "cell_type": "code",
      "source": [
        "from sklearn.model_selection import train_test_split\n",
        "xtrain, xtest, ytrain, ytest = train_test_split(X_pre, Y, test_size=0.2, random_state=21)"
      ],
      "metadata": {
        "id": "9_e2aGMGnXHs"
      },
      "execution_count": 17,
      "outputs": []
    },
    {
      "cell_type": "code",
      "source": [
        "xtrain"
      ],
      "metadata": {
        "colab": {
          "base_uri": "https://localhost:8080/"
        },
        "id": "E9z18qL6nuz8",
        "outputId": "761d7bca-11f3-467e-b058-028625666a28"
      },
      "execution_count": 18,
      "outputs": [
        {
          "output_type": "execute_result",
          "data": {
            "text/plain": [
              "array([[0.        , 0.        , 0.        , ..., 0.        , 0.        ,\n",
              "        0.        ],\n",
              "       [0.        , 0.        , 0.        , ..., 0.        , 0.        ,\n",
              "        0.        ],\n",
              "       [0.        , 0.        , 0.        , ..., 0.        , 0.        ,\n",
              "        0.        ],\n",
              "       ...,\n",
              "       [0.        , 0.        , 0.        , ..., 0.        , 0.        ,\n",
              "        0.        ],\n",
              "       [0.        , 0.        , 0.        , ..., 0.        , 0.        ,\n",
              "        0.        ],\n",
              "       [0.27867055, 0.        , 0.        , ..., 0.        , 0.        ,\n",
              "        0.        ]])"
            ]
          },
          "metadata": {},
          "execution_count": 18
        }
      ]
    },
    {
      "cell_type": "code",
      "source": [
        "ytrain"
      ],
      "metadata": {
        "colab": {
          "base_uri": "https://localhost:8080/"
        },
        "id": "GVMB66hgnyjA",
        "outputId": "c66686a4-f382-403c-f48e-1b4ce0f6f405"
      },
      "execution_count": 19,
      "outputs": [
        {
          "output_type": "execute_result",
          "data": {
            "text/plain": [
              "108    1\n",
              "134    1\n",
              "585    1\n",
              "42     0\n",
              "990    0\n",
              "      ..\n",
              "48     1\n",
              "772    0\n",
              "824    0\n",
              "207    0\n",
              "969    0\n",
              "Name: Liked, Length: 800, dtype: int64"
            ]
          },
          "metadata": {},
          "execution_count": 19
        }
      ]
    },
    {
      "cell_type": "code",
      "source": [
        "xtest"
      ],
      "metadata": {
        "colab": {
          "base_uri": "https://localhost:8080/"
        },
        "id": "gdrxDClen3lQ",
        "outputId": "903302e2-0c04-4374-8fa5-e840d353fdf6"
      },
      "execution_count": 20,
      "outputs": [
        {
          "output_type": "execute_result",
          "data": {
            "text/plain": [
              "array([[0., 0., 0., ..., 0., 0., 0.],\n",
              "       [0., 0., 0., ..., 0., 0., 0.],\n",
              "       [0., 0., 0., ..., 0., 0., 0.],\n",
              "       ...,\n",
              "       [0., 0., 0., ..., 0., 0., 0.],\n",
              "       [0., 0., 0., ..., 0., 0., 0.],\n",
              "       [0., 0., 0., ..., 0., 0., 0.]])"
            ]
          },
          "metadata": {},
          "execution_count": 20
        }
      ]
    },
    {
      "cell_type": "code",
      "source": [
        "ytest"
      ],
      "metadata": {
        "colab": {
          "base_uri": "https://localhost:8080/"
        },
        "id": "RCroFXjFn6P8",
        "outputId": "2e84480b-99d6-4412-bce4-dba263b61b4b"
      },
      "execution_count": 21,
      "outputs": [
        {
          "output_type": "execute_result",
          "data": {
            "text/plain": [
              "492    0\n",
              "383    0\n",
              "856    1\n",
              "834    1\n",
              "603    1\n",
              "      ..\n",
              "72     0\n",
              "400    0\n",
              "813    0\n",
              "195    1\n",
              "45     1\n",
              "Name: Liked, Length: 200, dtype: int64"
            ]
          },
          "metadata": {},
          "execution_count": 21
        }
      ]
    },
    {
      "cell_type": "code",
      "source": [
        "xtrain.shape"
      ],
      "metadata": {
        "colab": {
          "base_uri": "https://localhost:8080/"
        },
        "id": "A6XtRk2Pn7i6",
        "outputId": "6471d0fa-82ab-4d8c-863a-ceeb1e597ec0"
      },
      "execution_count": 22,
      "outputs": [
        {
          "output_type": "execute_result",
          "data": {
            "text/plain": [
              "(800, 2046)"
            ]
          },
          "metadata": {},
          "execution_count": 22
        }
      ]
    },
    {
      "cell_type": "code",
      "source": [
        "xtest.shape"
      ],
      "metadata": {
        "colab": {
          "base_uri": "https://localhost:8080/"
        },
        "id": "zCCnZwF2n-Lr",
        "outputId": "dd684d79-4f86-4643-fe0a-1caa8f46fcd2"
      },
      "execution_count": 23,
      "outputs": [
        {
          "output_type": "execute_result",
          "data": {
            "text/plain": [
              "(200, 2046)"
            ]
          },
          "metadata": {},
          "execution_count": 23
        }
      ]
    },
    {
      "cell_type": "markdown",
      "source": [
        "### Build The Neural Net"
      ],
      "metadata": {
        "id": "HOjMUncjoHLU"
      }
    },
    {
      "cell_type": "code",
      "source": [
        "from keras.models import Sequential\n",
        "from keras.layers import Dense, Dropout, Input\n",
        "from keras.callbacks import EarlyStopping"
      ],
      "metadata": {
        "id": "FHu5UMB6oA54"
      },
      "execution_count": 24,
      "outputs": []
    },
    {
      "cell_type": "code",
      "source": [
        "model = Sequential()\n",
        "\n",
        "# Input Layer\n",
        "model.add(Input(shape=(xtrain.shape[1],)))\n",
        "\n",
        "# Hidden Layer 1\n",
        "model.add(Dense(256, activation='relu'))\n",
        "# Dropout Layer 1\n",
        "model.add(Dropout(0.6))\n",
        "\n",
        "# Hidden Layer 2\n",
        "model.add(Dense(128, activation='relu'))\n",
        "# Dropout layer 2\n",
        "model.add(Dropout(0.6))\n",
        "\n",
        "# Output Layer\n",
        "model.add(Dense(1, activation='sigmoid'))"
      ],
      "metadata": {
        "id": "IATJlO2_oTX5"
      },
      "execution_count": 25,
      "outputs": []
    },
    {
      "cell_type": "code",
      "source": [
        "model.summary()"
      ],
      "metadata": {
        "colab": {
          "base_uri": "https://localhost:8080/"
        },
        "id": "19-GZVWuowzb",
        "outputId": "54b920df-1e88-48cc-bab1-ea57f9624c3c"
      },
      "execution_count": 26,
      "outputs": [
        {
          "output_type": "stream",
          "name": "stdout",
          "text": [
            "Model: \"sequential\"\n",
            "_________________________________________________________________\n",
            " Layer (type)                Output Shape              Param #   \n",
            "=================================================================\n",
            " dense (Dense)               (None, 256)               524032    \n",
            "                                                                 \n",
            " dropout (Dropout)           (None, 256)               0         \n",
            "                                                                 \n",
            " dense_1 (Dense)             (None, 128)               32896     \n",
            "                                                                 \n",
            " dropout_1 (Dropout)         (None, 128)               0         \n",
            "                                                                 \n",
            " dense_2 (Dense)             (None, 1)                 129       \n",
            "                                                                 \n",
            "=================================================================\n",
            "Total params: 557057 (2.13 MB)\n",
            "Trainable params: 557057 (2.13 MB)\n",
            "Non-trainable params: 0 (0.00 Byte)\n",
            "_________________________________________________________________\n"
          ]
        }
      ]
    },
    {
      "cell_type": "code",
      "source": [
        "model.compile(optimizer='adam', loss='binary_crossentropy', metrics=['accuracy'])"
      ],
      "metadata": {
        "id": "gOnbh2sgoy7q"
      },
      "execution_count": 27,
      "outputs": []
    },
    {
      "cell_type": "code",
      "source": [
        "es = EarlyStopping(patience=10)"
      ],
      "metadata": {
        "id": "DcwShi6spBPe"
      },
      "execution_count": 28,
      "outputs": []
    },
    {
      "cell_type": "code",
      "source": [
        "hist = model.fit(xtrain, ytrain,\n",
        "                 validation_split=0.2,\n",
        "                 batch_size=16,\n",
        "                 epochs=100,\n",
        "                 callbacks=[es])"
      ],
      "metadata": {
        "colab": {
          "base_uri": "https://localhost:8080/"
        },
        "id": "6PslyUEvpFBk",
        "outputId": "eba2dbec-6954-4aed-93a4-e96ea7d7bf87"
      },
      "execution_count": 29,
      "outputs": [
        {
          "output_type": "stream",
          "name": "stdout",
          "text": [
            "Epoch 1/100\n",
            "40/40 [==============================] - 7s 22ms/step - loss: 0.6932 - accuracy: 0.5078 - val_loss: 0.6911 - val_accuracy: 0.4563\n",
            "Epoch 2/100\n",
            "40/40 [==============================] - 0s 7ms/step - loss: 0.6721 - accuracy: 0.6297 - val_loss: 0.6727 - val_accuracy: 0.5750\n",
            "Epoch 3/100\n",
            "40/40 [==============================] - 0s 9ms/step - loss: 0.6031 - accuracy: 0.7766 - val_loss: 0.5870 - val_accuracy: 0.7750\n",
            "Epoch 4/100\n",
            "40/40 [==============================] - 0s 10ms/step - loss: 0.4124 - accuracy: 0.8938 - val_loss: 0.5073 - val_accuracy: 0.7437\n",
            "Epoch 5/100\n",
            "40/40 [==============================] - 0s 8ms/step - loss: 0.2106 - accuracy: 0.9484 - val_loss: 0.4579 - val_accuracy: 0.7812\n",
            "Epoch 6/100\n",
            "40/40 [==============================] - 0s 9ms/step - loss: 0.0975 - accuracy: 0.9781 - val_loss: 0.4541 - val_accuracy: 0.7812\n",
            "Epoch 7/100\n",
            "40/40 [==============================] - 0s 9ms/step - loss: 0.0578 - accuracy: 0.9875 - val_loss: 0.4653 - val_accuracy: 0.7750\n",
            "Epoch 8/100\n",
            "40/40 [==============================] - 0s 7ms/step - loss: 0.0246 - accuracy: 0.9984 - val_loss: 0.5056 - val_accuracy: 0.7625\n",
            "Epoch 9/100\n",
            "40/40 [==============================] - 0s 10ms/step - loss: 0.0210 - accuracy: 0.9969 - val_loss: 0.5236 - val_accuracy: 0.7688\n",
            "Epoch 10/100\n",
            "40/40 [==============================] - 0s 8ms/step - loss: 0.0146 - accuracy: 0.9969 - val_loss: 0.6333 - val_accuracy: 0.7437\n",
            "Epoch 11/100\n",
            "40/40 [==============================] - 0s 8ms/step - loss: 0.0095 - accuracy: 1.0000 - val_loss: 0.6018 - val_accuracy: 0.7500\n",
            "Epoch 12/100\n",
            "40/40 [==============================] - 1s 14ms/step - loss: 0.0069 - accuracy: 1.0000 - val_loss: 0.5745 - val_accuracy: 0.7750\n",
            "Epoch 13/100\n",
            "40/40 [==============================] - 1s 14ms/step - loss: 0.0050 - accuracy: 1.0000 - val_loss: 0.5982 - val_accuracy: 0.7688\n",
            "Epoch 14/100\n",
            "40/40 [==============================] - 1s 14ms/step - loss: 0.0044 - accuracy: 1.0000 - val_loss: 0.6052 - val_accuracy: 0.7750\n",
            "Epoch 15/100\n",
            "40/40 [==============================] - 0s 12ms/step - loss: 0.0046 - accuracy: 1.0000 - val_loss: 0.6236 - val_accuracy: 0.7750\n",
            "Epoch 16/100\n",
            "40/40 [==============================] - 1s 14ms/step - loss: 0.0026 - accuracy: 1.0000 - val_loss: 0.6352 - val_accuracy: 0.7812\n"
          ]
        }
      ]
    },
    {
      "cell_type": "markdown",
      "source": [
        "### Learning curve"
      ],
      "metadata": {
        "id": "EbNww0OmqQyy"
      }
    },
    {
      "cell_type": "code",
      "source": [
        "import matplotlib.pyplot as plt\n",
        "plt.figure(figsize=(10, 5))\n",
        "plt.plot(hist.history['loss'], label='Train Loss')\n",
        "plt.plot(hist.history['val_loss'], label='Validation Loss')\n",
        "plt.xlabel('epochs')\n",
        "plt.ylabel('Binary Crossentropy loss')\n",
        "plt.legend()\n",
        "plt.show()"
      ],
      "metadata": {
        "colab": {
          "base_uri": "https://localhost:8080/",
          "height": 434
        },
        "id": "HNuOP7qUprfL",
        "outputId": "372e8c63-69fe-49c7-8b49-b7112007f7b8"
      },
      "execution_count": 30,
      "outputs": [
        {
          "output_type": "display_data",
          "data": {
            "text/plain": [
              "<Figure size 1000x500 with 1 Axes>"
            ],
            "image/png": "[encoded data removed]"
          },
          "metadata": {}
        }
      ]
    },
    {
      "cell_type": "markdown",
      "source": [
        "### Evaluate the model"
      ],
      "metadata": {
        "id": "tsL0hQERrSka"
      }
    },
    {
      "cell_type": "code",
      "source": [
        "model.evaluate(xtrain, ytrain)"
      ],
      "metadata": {
        "colab": {
          "base_uri": "https://localhost:8080/"
        },
        "id": "IlC79piPqhB1",
        "outputId": "6720b156-965d-4d3d-ebd4-8b589bd34cd4"
      },
      "execution_count": 31,
      "outputs": [
        {
          "output_type": "stream",
          "name": "stdout",
          "text": [
            "25/25 [==============================] - 0s 4ms/step - loss: 0.1274 - accuracy: 0.9563\n"
          ]
        },
        {
          "output_type": "execute_result",
          "data": {
            "text/plain": [
              "[0.1274382472038269, 0.956250011920929]"
            ]
          },
          "metadata": {},
          "execution_count": 31
        }
      ]
    },
    {
      "cell_type": "code",
      "source": [
        "model.evaluate(xtest, ytest)"
      ],
      "metadata": {
        "colab": {
          "base_uri": "https://localhost:8080/"
        },
        "id": "21C2xGGbrXLL",
        "outputId": "238e083e-3ab7-4230-deb6-833450e825b1"
      },
      "execution_count": 32,
      "outputs": [
        {
          "output_type": "stream",
          "name": "stdout",
          "text": [
            "7/7 [==============================] - 0s 5ms/step - loss: 0.5803 - accuracy: 0.8000\n"
          ]
        },
        {
          "output_type": "execute_result",
          "data": {
            "text/plain": [
              "[0.5802900195121765, 0.800000011920929]"
            ]
          },
          "metadata": {},
          "execution_count": 32
        }
      ]
    },
    {
      "cell_type": "markdown",
      "source": [
        "### Predict results for train and test"
      ],
      "metadata": {
        "id": "uu2yP1GirqQ2"
      }
    },
    {
      "cell_type": "code",
      "source": [
        "yprob_train = model.predict(xtrain)\n",
        "yprob_test = model.predict(xtest)"
      ],
      "metadata": {
        "colab": {
          "base_uri": "https://localhost:8080/"
        },
        "id": "VN_hKnajratY",
        "outputId": "db26a168-c71b-489d-cb48-ea2248aa76b9"
      },
      "execution_count": 33,
      "outputs": [
        {
          "output_type": "stream",
          "name": "stdout",
          "text": [
            "25/25 [==============================] - 0s 3ms/step\n",
            "7/7 [==============================] - 0s 3ms/step\n"
          ]
        }
      ]
    },
    {
      "cell_type": "code",
      "source": [
        "yprob_train[0:5]"
      ],
      "metadata": {
        "colab": {
          "base_uri": "https://localhost:8080/"
        },
        "id": "y5pR7fWZr1Ge",
        "outputId": "af2212b4-710f-4ec9-e0af-e88b0d82723b"
      },
      "execution_count": 34,
      "outputs": [
        {
          "output_type": "execute_result",
          "data": {
            "text/plain": [
              "array([[9.9867994e-01],\n",
              "       [9.9997187e-01],\n",
              "       [9.9999917e-01],\n",
              "       [3.0879284e-05],\n",
              "       [5.3391239e-05]], dtype=float32)"
            ]
          },
          "metadata": {},
          "execution_count": 34
        }
      ]
    },
    {
      "cell_type": "code",
      "source": [
        "ypred_train = [1 if prob>=0.5 else 0 for prob in yprob_train]\n",
        "ypred_test = [1 if prob>=0.5 else 0 for prob in yprob_test]"
      ],
      "metadata": {
        "id": "-64BJexer3xq"
      },
      "execution_count": 35,
      "outputs": []
    },
    {
      "cell_type": "code",
      "source": [
        "from sklearn.metrics import ConfusionMatrixDisplay\n",
        "ConfusionMatrixDisplay.from_predictions(ytest, ypred_test)"
      ],
      "metadata": {
        "colab": {
          "base_uri": "https://localhost:8080/",
          "height": 466
        },
        "id": "YKMVDuiYsDq4",
        "outputId": "5b16670c-37e9-4264-eeb8-2ac4ceb9ada5"
      },
      "execution_count": 36,
      "outputs": [
        {
          "output_type": "execute_result",
          "data": {
            "text/plain": [
              "<sklearn.metrics._plot.confusion_matrix.ConfusionMatrixDisplay at 0x7ca72c22ac50>"
            ]
          },
          "metadata": {},
          "execution_count": 36
        },
        {
          "output_type": "display_data",
          "data": {
            "text/plain": [
              "<Figure size 640x480 with 2 Axes>"
            ],
            "image/png": "[encoded data removed]"
          },
          "metadata": {}
        }
      ]
    },
    {
      "cell_type": "code",
      "source": [
        "from sklearn.metrics import classification_report\n",
        "print(classification_report(ytest, ypred_test))"
      ],
      "metadata": {
        "colab": {
          "base_uri": "https://localhost:8080/"
        },
        "id": "tX7OP9AksNS_",
        "outputId": "90a27c8a-0cf8-4d12-eadb-1f60611c870a"
      },
      "execution_count": 37,
      "outputs": [
        {
          "output_type": "stream",
          "name": "stdout",
          "text": [
            "              precision    recall  f1-score   support\n",
            "\n",
            "           0       0.85      0.74      0.79       102\n",
            "           1       0.76      0.87      0.81        98\n",
            "\n",
            "    accuracy                           0.80       200\n",
            "   macro avg       0.81      0.80      0.80       200\n",
            "weighted avg       0.81      0.80      0.80       200\n",
            "\n"
          ]
        }
      ]
    },
    {
      "cell_type": "markdown",
      "source": [
        "### Save the model for future use"
      ],
      "metadata": {
        "id": "psfRh5zSsonZ"
      }
    },
    {
      "cell_type": "code",
      "source": [
        "model.save(\"SentimentModel.keras\")"
      ],
      "metadata": {
        "id": "rCnQP16dsi8t"
      },
      "execution_count": 38,
      "outputs": []
    },
    {
      "cell_type": "markdown",
      "source": [
        "### Load the model"
      ],
      "metadata": {
        "id": "3IiSdbbvs4tD"
      }
    },
    {
      "cell_type": "code",
      "source": [
        "from keras.models import load_model"
      ],
      "metadata": {
        "id": "DpA4o8whswml"
      },
      "execution_count": 39,
      "outputs": []
    },
    {
      "cell_type": "code",
      "source": [
        "nn = load_model(\"/content/SentimentModel.keras\")\n",
        "nn.summary()"
      ],
      "metadata": {
        "colab": {
          "base_uri": "https://localhost:8080/"
        },
        "id": "TM4EaWg0s9C2",
        "outputId": "49cc19c2-7355-4267-ce7d-b4ba43ffee17"
      },
      "execution_count": 40,
      "outputs": [
        {
          "output_type": "stream",
          "name": "stdout",
          "text": [
            "Model: \"sequential\"\n",
            "_________________________________________________________________\n",
            " Layer (type)                Output Shape              Param #   \n",
            "=================================================================\n",
            " dense (Dense)               (None, 256)               524032    \n",
            "                                                                 \n",
            " dropout (Dropout)           (None, 256)               0         \n",
            "                                                                 \n",
            " dense_1 (Dense)             (None, 128)               32896     \n",
            "                                                                 \n",
            " dropout_1 (Dropout)         (None, 128)               0         \n",
            "                                                                 \n",
            " dense_2 (Dense)             (None, 1)                 129       \n",
            "                                                                 \n",
            "=================================================================\n",
            "Total params: 557057 (2.13 MB)\n",
            "Trainable params: 557057 (2.13 MB)\n",
            "Non-trainable params: 0 (0.00 Byte)\n",
            "_________________________________________________________________\n"
          ]
        }
      ]
    },
    {
      "cell_type": "markdown",
      "source": [
        "### Out of sample prediction"
      ],
      "metadata": {
        "id": "nSVWv71ttK8U"
      }
    },
    {
      "cell_type": "code",
      "source": [
        "s = \"Very tasty food\"\n",
        "t = tfidf.transform([s]).toarray()\n",
        "t"
      ],
      "metadata": {
        "colab": {
          "base_uri": "https://localhost:8080/"
        },
        "id": "WQ6K0FnrtFOb",
        "outputId": "3a7ccba1-a3b3-44e0-bd22-846b88f23cd3"
      },
      "execution_count": 49,
      "outputs": [
        {
          "output_type": "execute_result",
          "data": {
            "text/plain": [
              "array([[0., 0., 0., ..., 0., 0., 0.]])"
            ]
          },
          "metadata": {},
          "execution_count": 49
        }
      ]
    },
    {
      "cell_type": "code",
      "source": [
        "model.predict(t)"
      ],
      "metadata": {
        "colab": {
          "base_uri": "https://localhost:8080/"
        },
        "id": "RCkGDlrZtUrO",
        "outputId": "2de9b971-27bc-493d-9afb-4e3b562d5d53"
      },
      "execution_count": 45,
      "outputs": [
        {
          "output_type": "stream",
          "name": "stdout",
          "text": [
            "1/1 [==============================] - 0s 123ms/step\n"
          ]
        },
        {
          "output_type": "execute_result",
          "data": {
            "text/plain": [
              "array([[0.99795216]], dtype=float32)"
            ]
          },
          "metadata": {},
          "execution_count": 45
        }
      ]
    },
    {
      "cell_type": "code",
      "source": [
        "def predict_sentiment():\n",
        "  text = input(\"Please enter restuaraunt review : \")\n",
        "  text = preprocess_text(text)\n",
        "  text_pre = tfidf.transform([text]).toarray()\n",
        "  prob = model.predict(text_pre)\n",
        "  if prob>=0.5:\n",
        "    print(\"Positive Review\")\n",
        "  else:\n",
        "    print(\"Negative Review\")\n",
        "  return prob"
      ],
      "metadata": {
        "id": "vvXzlP_5tfaf"
      },
      "execution_count": 46,
      "outputs": []
    },
    {
      "cell_type": "code",
      "source": [
        "predict_sentiment()"
      ],
      "metadata": {
        "colab": {
          "base_uri": "https://localhost:8080/"
        },
        "id": "zbaO6jZTuEOi",
        "outputId": "ed1dc358-5330-4b48-cc7e-08ebe7d1ade6"
      },
      "execution_count": 47,
      "outputs": [
        {
          "output_type": "stream",
          "name": "stdout",
          "text": [
            "Please enter restuaraunt review : Very good ambience , i liked it\n",
            "1/1 [==============================] - 0s 17ms/step\n",
            "Positive Review\n"
          ]
        },
        {
          "output_type": "execute_result",
          "data": {
            "text/plain": [
              "array([[0.99974877]], dtype=float32)"
            ]
          },
          "metadata": {},
          "execution_count": 47
        }
      ]
    },
    {
      "cell_type": "code",
      "source": [
        "predict_sentiment()"
      ],
      "metadata": {
        "colab": {
          "base_uri": "https://localhost:8080/"
        },
        "id": "Bb0q4sCiuG1K",
        "outputId": "ddf64547-d400-4fd2-cd79-307c0f963078"
      },
      "execution_count": 48,
      "outputs": [
        {
          "output_type": "stream",
          "name": "stdout",
          "text": [
            "Please enter restuaraunt review : Bad Taste, I did not like the taste of Pizza here\n",
            "1/1 [==============================] - 0s 18ms/step\n",
            "Negative Review\n"
          ]
        },
        {
          "output_type": "execute_result",
          "data": {
            "text/plain": [
              "array([[0.00018876]], dtype=float32)"
            ]
          },
          "metadata": {},
          "execution_count": 48
        }
      ]
    },
    {
      "cell_type": "code",
      "source": [],
      "metadata": {
        "id": "s7dYuWAluPl3"
      },
      "execution_count": null,
      "outputs": []
    }
  ]
}